{
  "nbformat": 4,
  "nbformat_minor": 0,
  "metadata": {
    "colab": {
      "provenance": [],
      "authorship_tag": "ABX9TyMPR6dtjzNfpyLKFD3Rh2H5",
      "include_colab_link": true
    },
    "kernelspec": {
      "name": "python3",
      "display_name": "Python 3"
    },
    "language_info": {
      "name": "python"
    }
  },
  "cells": [
    {
      "cell_type": "markdown",
      "metadata": {
        "id": "view-in-github",
        "colab_type": "text"
      },
      "source": [
        "<a href=\"https://colab.research.google.com/github/Aditi-24-05/POS_tagging/blob/main/POS_Tagging.ipynb\" target=\"_parent\"><img src=\"https://colab.research.google.com/assets/colab-badge.svg\" alt=\"Open In Colab\"/></a>"
      ]
    },
    {
      "cell_type": "markdown",
      "source": [
        "# **POS Tagging**\n",
        "**POS tagging is a process in natural language processing (NLP) where each word in a text is labeled with its corresponding part of speech which includes  nouns, verbs, adjectives, and other grammatical categories.**\n",
        "\n",
        "**By: Aditi Rawat**"
      ],
      "metadata": {
        "id": "4z4eWRXZw6fU"
      }
    },
    {
      "cell_type": "markdown",
      "source": [
        "# **Importing libraries required for the project**"
      ],
      "metadata": {
        "id": "xshTs3q5w_WW"
      }
    },
    {
      "cell_type": "code",
      "source": [
        "import nltk\n",
        "from nltk.corpus import brown\n",
        "from nltk import ne_chunk\n",
        "nltk.download('brown')\n",
        "nltk.download('punkt')"
      ],
      "metadata": {
        "id": "f_zK1PhzxEni",
        "colab": {
          "base_uri": "https://localhost:8080/"
        },
        "outputId": "8ef283e4-d47c-45e2-e72a-1b70ed0b2674"
      },
      "execution_count": null,
      "outputs": [
        {
          "output_type": "stream",
          "name": "stderr",
          "text": [
            "[nltk_data] Downloading package brown to /root/nltk_data...\n",
            "[nltk_data]   Unzipping corpora/brown.zip.\n",
            "[nltk_data] Downloading package punkt to /root/nltk_data...\n",
            "[nltk_data]   Unzipping tokenizers/punkt.zip.\n"
          ]
        },
        {
          "output_type": "execute_result",
          "data": {
            "text/plain": [
              "True"
            ]
          },
          "metadata": {},
          "execution_count": 1
        }
      ]
    },
    {
      "cell_type": "markdown",
      "source": [
        "# **Training the bigram tagger and using the unigram tagger as \"backoff\".**\n",
        "\n",
        "\"Backoff\" strategy, utilizes multiple taggers in sequence, falling back on less contextually sensitive taggers when more contextually sensitive ones cannot provide a tag."
      ],
      "metadata": {
        "id": "3xUe5VYyxLOh"
      }
    },
    {
      "cell_type": "code",
      "source": [
        "brown_tagged_sents = brown.tagged_sents()\n",
        "bigram_tagger = nltk.BigramTagger(brown_tagged_sents, backoff=nltk.UnigramTagger(brown_tagged_sents))"
      ],
      "metadata": {
        "id": "lkRwq8NUyHqn"
      },
      "execution_count": null,
      "outputs": []
    },
    {
      "cell_type": "markdown",
      "source": [
        "# **Get user Input**"
      ],
      "metadata": {
        "id": "orK98mrPzRz8"
      }
    },
    {
      "cell_type": "code",
      "source": [
        "sentence = input(\"Enter a sentence: \")\n",
        "# Tokenizing  user input and tag it using the bigram tagger\n",
        "words = nltk.word_tokenize(sentence)\n",
        "tagged_words = bigram_tagger.tag(words)"
      ],
      "metadata": {
        "id": "0vst4fZNzU1i",
        "colab": {
          "base_uri": "https://localhost:8080/"
        },
        "outputId": "76c75449-e794-4bc0-b0fc-954a8d4c8401"
      },
      "execution_count": null,
      "outputs": [
        {
          "name": "stdout",
          "output_type": "stream",
          "text": [
            "Enter a sentence: The name of my sweet cat is Kitty \n"
          ]
        }
      ]
    },
    {
      "cell_type": "markdown",
      "source": [
        "# **Extract named entities**"
      ],
      "metadata": {
        "id": "v2pAUAgLyMpL"
      }
    },
    {
      "cell_type": "code",
      "source": [
        "nltk.download('maxent_ne_chunker')\n",
        "nltk.download('words')\n",
        "nltk.download('averaged_perceptron_tagger')\n",
        "\n",
        "tagged = nltk.pos_tag(words)\n",
        "ne_tagged = ne_chunk(tagged)\n",
        "\n",
        "named_entities = []\n",
        "for entity in ne_tagged:\n",
        "    if isinstance(entity, nltk.tree.Tree) and entity.label() == 'PERSON':\n",
        "        name = ' '.join([word for word, _ in entity.leaves()])\n",
        "        named_entities.append(name)"
      ],
      "metadata": {
        "colab": {
          "base_uri": "https://localhost:8080/"
        },
        "id": "rdE0P1ZpyNhw",
        "outputId": "0e44b4cb-9a4e-4000-8d31-1065ef82a4f2"
      },
      "execution_count": null,
      "outputs": [
        {
          "output_type": "stream",
          "name": "stderr",
          "text": [
            "[nltk_data] Downloading package maxent_ne_chunker to\n",
            "[nltk_data]     /root/nltk_data...\n",
            "[nltk_data]   Package maxent_ne_chunker is already up-to-date!\n",
            "[nltk_data] Downloading package words to /root/nltk_data...\n",
            "[nltk_data]   Package words is already up-to-date!\n",
            "[nltk_data] Downloading package averaged_perceptron_tagger to\n",
            "[nltk_data]     /root/nltk_data...\n",
            "[nltk_data]   Package averaged_perceptron_tagger is already up-to-\n",
            "[nltk_data]       date!\n"
          ]
        }
      ]
    },
    {
      "cell_type": "markdown",
      "source": [
        "# **Update POS tags considering both taggers and NER**"
      ],
      "metadata": {
        "id": "umGxr8Pjzvum"
      }
    },
    {
      "cell_type": "code",
      "source": [
        "for i, (word, tag) in enumerate(tagged_words):\n",
        "    if word in named_entities:\n",
        "        tagged_words[i] = (word, 'NNP')"
      ],
      "metadata": {
        "id": "UKt-HU33z8fD"
      },
      "execution_count": null,
      "outputs": []
    },
    {
      "cell_type": "markdown",
      "source": [
        "# **Display the output**"
      ],
      "metadata": {
        "id": "DEUXp7bMcwca"
      }
    },
    {
      "cell_type": "code",
      "source": [
        "for word, tag in tagged_words:\n",
        "    print(f\"{word}/{tag}\", end=\" \")"
      ],
      "metadata": {
        "colab": {
          "base_uri": "https://localhost:8080/"
        },
        "id": "WCOgKOsUc3j7",
        "outputId": "f131fa7a-fb70-458b-d4cd-a8d5ffd31fc9"
      },
      "execution_count": null,
      "outputs": [
        {
          "output_type": "stream",
          "name": "stdout",
          "text": [
            "The/AT name/NN of/IN my/PP$ sweet/JJ cat/NN is/BEZ Kitty/NNP "
          ]
        }
      ]
    }
  ]
}